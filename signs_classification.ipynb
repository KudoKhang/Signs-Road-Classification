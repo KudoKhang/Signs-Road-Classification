{
  "nbformat": 4,
  "nbformat_minor": 0,
  "metadata": {
    "accelerator": "GPU",
    "colab": {
      "name": "signs classification.ipynb",
      "provenance": [],
      "collapsed_sections": [],
      "mount_file_id": "1YR41ZCkGf3EJ1kCNxQRrVOFwbLj93TTA",
      "authorship_tag": "ABX9TyMKFyt4Zxr2HQ5MSfnp59nM",
      "include_colab_link": true
    },
    "kernelspec": {
      "display_name": "Python 3",
      "name": "python3"
    },
    "language_info": {
      "name": "python"
    }
  },
  "cells": [
    {
      "cell_type": "markdown",
      "metadata": {
        "id": "view-in-github",
        "colab_type": "text"
      },
      "source": [
        "<a href=\"https://colab.research.google.com/github/KudoKhang/Signs-Road-Classification/blob/main/signs_classification.ipynb\" target=\"_parent\"><img src=\"https://colab.research.google.com/assets/colab-badge.svg\" alt=\"Open In Colab\"/></a>"
      ]
    },
    {
      "cell_type": "code",
      "metadata": {
        "colab": {
          "base_uri": "https://localhost:8080/",
          "height": 35
        },
        "id": "PFZsrz1ysoXe",
        "outputId": "dcabe454-ced7-47e9-cad3-d397e3926e5b"
      },
      "source": [
        "pwd"
      ],
      "execution_count": null,
      "outputs": [
        {
          "output_type": "execute_result",
          "data": {
            "application/vnd.google.colaboratory.intrinsic+json": {
              "type": "string"
            },
            "text/plain": [
              "'/content'"
            ]
          },
          "metadata": {
            "tags": []
          },
          "execution_count": 2
        }
      ]
    },
    {
      "cell_type": "code",
      "metadata": {
        "colab": {
          "base_uri": "https://localhost:8080/"
        },
        "id": "YhZZQFPVtuI-",
        "outputId": "c31e0e1d-29f1-4ae0-9e44-7ac47fa832fa"
      },
      "source": [
        "cd \"/content/drive/MyDrive/ColabNotebooks/Traffic Signs Classification\""
      ],
      "execution_count": null,
      "outputs": [
        {
          "output_type": "stream",
          "text": [
            "/content/drive/MyDrive/ColabNotebooks/Traffic Signs Classification\n"
          ],
          "name": "stdout"
        }
      ]
    },
    {
      "cell_type": "code",
      "metadata": {
        "colab": {
          "base_uri": "https://localhost:8080/",
          "height": 35
        },
        "id": "V28fMTgHt1Rr",
        "outputId": "fee04084-90b5-4175-bfe1-7c9d2ce043a7"
      },
      "source": [
        "pwd"
      ],
      "execution_count": null,
      "outputs": [
        {
          "output_type": "execute_result",
          "data": {
            "application/vnd.google.colaboratory.intrinsic+json": {
              "type": "string"
            },
            "text/plain": [
              "'/content/drive/MyDrive/ColabNotebooks/Traffic Signs Classification'"
            ]
          },
          "metadata": {
            "tags": []
          },
          "execution_count": 4
        }
      ]
    },
    {
      "cell_type": "code",
      "metadata": {
        "id": "dksTBlGPAiJ0"
      },
      "source": [
        "import tensorflow as tf"
      ],
      "execution_count": null,
      "outputs": []
    },
    {
      "cell_type": "code",
      "metadata": {
        "colab": {
          "base_uri": "https://localhost:8080/",
          "height": 35
        },
        "id": "a4cEvAhbArZ5",
        "outputId": "ed62cca4-fa0a-4b4a-fd3b-ef194eb25a00"
      },
      "source": [
        "tf.__version__"
      ],
      "execution_count": null,
      "outputs": [
        {
          "output_type": "execute_result",
          "data": {
            "application/vnd.google.colaboratory.intrinsic+json": {
              "type": "string"
            },
            "text/plain": [
              "'2.5.0'"
            ]
          },
          "metadata": {
            "tags": []
          },
          "execution_count": 6
        }
      ]
    },
    {
      "cell_type": "code",
      "metadata": {
        "id": "VoV_QjNxAwsf"
      },
      "source": [
        ""
      ],
      "execution_count": null,
      "outputs": []
    },
    {
      "cell_type": "code",
      "metadata": {
        "id": "oXbCfRPpAqDR"
      },
      "source": [
        ""
      ],
      "execution_count": null,
      "outputs": []
    },
    {
      "cell_type": "code",
      "metadata": {
        "id": "zDNYZEmHAmrO"
      },
      "source": [
        ""
      ],
      "execution_count": null,
      "outputs": []
    },
    {
      "cell_type": "code",
      "metadata": {
        "colab": {
          "base_uri": "https://localhost:8080/"
        },
        "id": "vxzWF2qXubAp",
        "outputId": "708a2f24-d9c6-40dc-d8b1-9c6faf87f212"
      },
      "source": [
        "!pip install wget"
      ],
      "execution_count": null,
      "outputs": [
        {
          "output_type": "stream",
          "text": [
            "Collecting wget\n",
            "  Downloading https://files.pythonhosted.org/packages/47/6a/62e288da7bcda82b935ff0c6cfe542970f04e29c756b0e147251b2fb251f/wget-3.2.zip\n",
            "Building wheels for collected packages: wget\n",
            "  Building wheel for wget (setup.py) ... \u001b[?25l\u001b[?25hdone\n",
            "  Created wheel for wget: filename=wget-3.2-cp37-none-any.whl size=9675 sha256=e410abff96a15ae84e88976980dd26e70f8470b084a087a3ef8a315c82de8fe9\n",
            "  Stored in directory: /root/.cache/pip/wheels/40/15/30/7d8f7cea2902b4db79e3fea550d7d7b85ecb27ef992b618f3f\n",
            "Successfully built wget\n",
            "Installing collected packages: wget\n",
            "Successfully installed wget-3.2\n"
          ],
          "name": "stdout"
        }
      ]
    },
    {
      "cell_type": "code",
      "metadata": {
        "id": "Tf3zB9OWur1T"
      },
      "source": [
        "import wget\n",
        "import pickle\n",
        "import matplotlib.pyplot as plt\n",
        "from sklearn.utils import shuffle"
      ],
      "execution_count": null,
      "outputs": []
    },
    {
      "cell_type": "code",
      "metadata": {
        "colab": {
          "base_uri": "https://localhost:8080/",
          "height": 35
        },
        "id": "5TvcV3Gvt2rD",
        "outputId": "8c0639f8-2936-4f6a-8e91-96b583e0e824"
      },
      "source": [
        "wget.download(\"https://d17h27t6h515a5.cloudfront.net/topher/2017/February/5898cd6f_traffic-signs-data/traffic-signs-data.zip\")"
      ],
      "execution_count": null,
      "outputs": [
        {
          "output_type": "execute_result",
          "data": {
            "application/vnd.google.colaboratory.intrinsic+json": {
              "type": "string"
            },
            "text/plain": [
              "'traffic-signs-data.zip'"
            ]
          },
          "metadata": {
            "tags": []
          },
          "execution_count": 9
        }
      ]
    },
    {
      "cell_type": "code",
      "metadata": {
        "colab": {
          "base_uri": "https://localhost:8080/"
        },
        "id": "49m4Hm1zuXEh",
        "outputId": "15372095-bc01-499c-afc8-6200b732a4ef"
      },
      "source": [
        "data = \"./\"\n",
        "!unzip -q \"traffic-signs-data.zip\" -d $data"
      ],
      "execution_count": null,
      "outputs": [
        {
          "output_type": "stream",
          "text": [
            "replace ./test.p? [y]es, [n]o, [A]ll, [N]one, [r]ename: n\n",
            "replace ./train.p? [y]es, [n]o, [A]ll, [N]one, [r]ename: n\n",
            "replace ./valid.p? [y]es, [n]o, [A]ll, [N]one, [r]ename: n\n"
          ],
          "name": "stdout"
        }
      ]
    },
    {
      "cell_type": "code",
      "metadata": {
        "id": "WvBi8WpruYVC"
      },
      "source": [
        "# link data trong folder\n",
        "train_link = data + \"train.p\"\n",
        "test_link = data + \"test.p\"\n",
        "valid_link = data + \"valid.p\""
      ],
      "execution_count": null,
      "outputs": []
    },
    {
      "cell_type": "code",
      "metadata": {
        "id": "OyOed8fwvbXW"
      },
      "source": [
        "# doc file .p\n",
        "with open(train_link, mode=\"rb\") as f:\n",
        "  train = pickle.load(f)\n",
        "with open(test_link, mode=\"rb\") as f:\n",
        "  test = pickle.load(f)\n",
        "with open(train_link, mode=\"rb\") as f:\n",
        "  valid = pickle.load(f)    "
      ],
      "execution_count": null,
      "outputs": []
    },
    {
      "cell_type": "code",
      "metadata": {
        "id": "0JZYTLTJv-8z"
      },
      "source": [
        "train"
      ],
      "execution_count": null,
      "outputs": []
    },
    {
      "cell_type": "code",
      "metadata": {
        "id": "ArRkz2c_wAGS"
      },
      "source": [
        "trainX = train['features']\n",
        "trainY = train['labels']\n",
        "\n",
        "validX = valid['features']\n",
        "validY = valid['labels']\n",
        "\n",
        "testX = test['features']\n",
        "testY = test['labels']"
      ],
      "execution_count": null,
      "outputs": []
    },
    {
      "cell_type": "code",
      "metadata": {
        "colab": {
          "base_uri": "https://localhost:8080/"
        },
        "id": "z0PxEJgWwaSA",
        "outputId": "937c1f52-0645-47a8-cc0a-dff4101e136f"
      },
      "source": [
        "trainX.shape"
      ],
      "execution_count": null,
      "outputs": [
        {
          "output_type": "execute_result",
          "data": {
            "text/plain": [
              "(34799, 32, 32, 3)"
            ]
          },
          "metadata": {
            "tags": []
          },
          "execution_count": 16
        }
      ]
    },
    {
      "cell_type": "code",
      "metadata": {
        "colab": {
          "base_uri": "https://localhost:8080/",
          "height": 283
        },
        "id": "azKu2c_5wpHZ",
        "outputId": "89c4e46f-06ad-4737-84bb-b71ea53f342f"
      },
      "source": [
        "plt.imshow(trainX[50])"
      ],
      "execution_count": null,
      "outputs": [
        {
          "output_type": "execute_result",
          "data": {
            "text/plain": [
              "<matplotlib.image.AxesImage at 0x7fafc8f5f2d0>"
            ]
          },
          "metadata": {
            "tags": []
          },
          "execution_count": 17
        },
        {
          "output_type": "display_data",
          "data": {
            "image/png": "[encoded data removed]",
            "text/plain": [
              "<Figure size 432x288 with 1 Axes>"
            ]
          },
          "metadata": {
            "tags": [],
            "needs_background": "light"
          }
        }
      ]
    },
    {
      "cell_type": "code",
      "metadata": {
        "id": "bt5uaFfayqKU"
      },
      "source": [
        "classNames = {0: 'Giới hạn tốc độ (20km / h)',\n",
        " 1: 'Giới hạn tốc độ (30km / h)',\n",
        " 2: 'Giới hạn tốc độ (50km / h)',\n",
        " 3: 'Giới hạn tốc độ (60km / h)',\n",
        " 4: 'Giới hạn tốc độ (70km / h)',\n",
        " 5: 'Giới hạn tốc độ (80km / h)',\n",
        " 6: 'Hết tốc độ giới hạn (80km / h)',\n",
        " 7: 'Giới hạn tốc độ (100km / h)',\n",
        " 8: 'Giới hạn tốc độ (120km / h)',\n",
        " 9: 'Không vượt qua',\n",
        " 10: 'Cấm xe trên 3,5 tấn đi qua',\n",
        " 11: 'Quyền ưu tiên tại giao lộ tiếp theo',\n",
        " 12: 'Đường ưu tiên',\n",
        " 13: 'Năng suất',\n",
        " 14: 'Dừng lại',\n",
        " 15: 'Không có xe cộ',\n",
        " 16: 'Cấm xe trên 3,5 tấn',\n",
        " 17: 'Không vào',\n",
        " 18: 'Thận trọng chung',\n",
        " 19: 'Đường cong nguy hiểm bên trái',\n",
        " 20: 'Đường cong nguy hiểm bên phải',\n",
        " 21: 'Đường cong kép',\n",
        " 22: 'Con đường gập ghềnh',\n",
        " 23: 'Đường trơn trượt',\n",
        " 24: 'Đường thu hẹp bên phải',\n",
        " 25: 'Làm đường',\n",
        " 26: 'Tín hiệu giao thông',\n",
        " 27: 'Người đi bộ',\n",
        " 28: 'Trẻ em băng qua đường',\n",
        " 29: 'Xe đạp băng qua đường',\n",
        " 30: 'Cẩn thận với băng / tuyết',\n",
        " 31: 'Động vật hoang dã băng qua',\n",
        " 32: 'Kết thúc mọi giới hạn tốc độ và vượt qua',\n",
        " 33: 'Rẽ phải về phía trước',\n",
        " 34: 'Rẽ trái phía trước',\n",
        " 35: 'Chỉ phía trước',\n",
        " 36: 'Đi thẳng hoặc sang phải',\n",
        " 37: 'Đi thẳng hoặc sang trái',\n",
        " 38: 'Đi bên phải',\n",
        " 39: 'Đi bên trái',\n",
        " 40: 'Bắt ​​buộc đi đường vòng',\n",
        " 41: 'Kết thúc không có vượt qua',\n",
        " 42: 'Cấm xe trên 3,5 tấn đi qua'}"
      ],
      "execution_count": null,
      "outputs": []
    },
    {
      "cell_type": "code",
      "metadata": {
        "colab": {
          "base_uri": "https://localhost:8080/",
          "height": 35
        },
        "id": "adeqU--L24sY",
        "outputId": "b0724f93-c85d-400f-efa8-d9539b6e51a7"
      },
      "source": [
        "classNames[trainY[50]]"
      ],
      "execution_count": null,
      "outputs": [
        {
          "output_type": "execute_result",
          "data": {
            "application/vnd.google.colaboratory.intrinsic+json": {
              "type": "string"
            },
            "text/plain": [
              "'Kết thúc không có vượt qua'"
            ]
          },
          "metadata": {
            "tags": []
          },
          "execution_count": 19
        }
      ]
    },
    {
      "cell_type": "code",
      "metadata": {
        "colab": {
          "base_uri": "https://localhost:8080/",
          "height": 35
        },
        "id": "uGTnr6Lwy2mN",
        "outputId": "4b31729e-9609-4ed3-d726-1debd8632f5f"
      },
      "source": [
        "classNames[trainY[50]]"
      ],
      "execution_count": null,
      "outputs": [
        {
          "output_type": "execute_result",
          "data": {
            "application/vnd.google.colaboratory.intrinsic+json": {
              "type": "string"
            },
            "text/plain": [
              "'Kết thúc không có vượt qua'"
            ]
          },
          "metadata": {
            "tags": []
          },
          "execution_count": 20
        }
      ]
    },
    {
      "cell_type": "code",
      "metadata": {
        "id": "Guw1v7Quy8d5"
      },
      "source": [
        "# Xao tron data, vì data ban dau xep theo thu tu -> model se bam sat training set -> mo hinh khong co tinh tong quat (generalization) -> Overfitting\n",
        "trainX, trainY = shuffle(trainX, trainY)"
      ],
      "execution_count": null,
      "outputs": []
    },
    {
      "cell_type": "code",
      "metadata": {
        "colab": {
          "base_uri": "https://localhost:8080/",
          "height": 35
        },
        "id": "I8MGp36U04XW",
        "outputId": "2c08e30d-2417-43d9-d5d8-e3a8090098e6"
      },
      "source": [
        "classNames[trainY[50]]"
      ],
      "execution_count": null,
      "outputs": [
        {
          "output_type": "execute_result",
          "data": {
            "application/vnd.google.colaboratory.intrinsic+json": {
              "type": "string"
            },
            "text/plain": [
              "'Làm đường'"
            ]
          },
          "metadata": {
            "tags": []
          },
          "execution_count": 22
        }
      ]
    },
    {
      "cell_type": "code",
      "metadata": {
        "id": "mNtyeDDQ09dJ"
      },
      "source": [
        "trainX = trainX.astype(\"float\") / 255.0\n",
        "validX = validX.astype(\"float\") / 255.0\n",
        "testX = testX.astype(\"float\") / 255.0"
      ],
      "execution_count": null,
      "outputs": []
    },
    {
      "cell_type": "code",
      "metadata": {
        "id": "fxqpQck9-lbQ"
      },
      "source": [
        "trainX"
      ],
      "execution_count": null,
      "outputs": []
    },
    {
      "cell_type": "code",
      "metadata": {
        "id": "KPXJeigo-noA"
      },
      "source": [
        "# Chuan hoa one hot.\n",
        "from sklearn.preprocessing import LabelBinarizer\n",
        "lb = LabelBinarizer()\n",
        "trainY = lb.fit_transform(trainY)\n",
        "validY = lb.fit_transform(validY)"
      ],
      "execution_count": null,
      "outputs": []
    },
    {
      "cell_type": "code",
      "metadata": {
        "colab": {
          "base_uri": "https://localhost:8080/"
        },
        "id": "FPUxa95VCWci",
        "outputId": "3b9b612f-6dd4-4e81-ecff-9c4e361c9b03"
      },
      "source": [
        "valid[\"labels\"][0]"
      ],
      "execution_count": null,
      "outputs": [
        {
          "output_type": "execute_result",
          "data": {
            "text/plain": [
              "41"
            ]
          },
          "metadata": {
            "tags": []
          },
          "execution_count": 26
        }
      ]
    },
    {
      "cell_type": "code",
      "metadata": {
        "colab": {
          "base_uri": "https://localhost:8080/"
        },
        "id": "gaoJGzD_CnV0",
        "outputId": "919de473-fe8b-4fa7-831e-655b79ac2dad"
      },
      "source": [
        "validY[0]"
      ],
      "execution_count": null,
      "outputs": [
        {
          "output_type": "execute_result",
          "data": {
            "text/plain": [
              "array([0, 0, 0, 0, 0, 0, 0, 0, 0, 0, 0, 0, 0, 0, 0, 0, 0, 0, 0, 0, 0, 0,\n",
              "       0, 0, 0, 0, 0, 0, 0, 0, 0, 0, 0, 0, 0, 0, 0, 0, 0, 0, 0, 1, 0],\n",
              "      dtype=int64)"
            ]
          },
          "metadata": {
            "tags": []
          },
          "execution_count": 61
        }
      ]
    },
    {
      "cell_type": "code",
      "metadata": {
        "id": "X0f6ww3zCpF1"
      },
      "source": [
        "from tensorflow.keras.models import Model\n",
        "from tensorflow.keras.models import Sequential\n",
        "from tensorflow.keras.layers import BatchNormalization\n",
        "from tensorflow.keras.layers import AveragePooling2D\n",
        "from tensorflow.keras.layers import MaxPooling2D\n",
        "from tensorflow.keras.layers import Conv2D\n",
        "from tensorflow.keras.layers import Activation\n",
        "from tensorflow.keras.layers import Dropout\n",
        "from tensorflow.keras.layers import Flatten\n",
        "from tensorflow.keras.layers import Input\n",
        "from tensorflow.keras.layers import Dense\n",
        "from tensorflow.keras.layers import concatenate\n",
        "from tensorflow.keras.preprocessing.image import ImageDataGenerator\n",
        "from tensorflow.keras.optimizers import SGD"
      ],
      "execution_count": null,
      "outputs": []
    },
    {
      "cell_type": "code",
      "metadata": {
        "id": "Smdps6MyIPp3"
      },
      "source": [
        "model = Sequential()\n",
        "width, height, classes = 32, 32, 43\n",
        "shape = (width, height, 3)"
      ],
      "execution_count": null,
      "outputs": []
    },
    {
      "cell_type": "code",
      "metadata": {
        "colab": {
          "base_uri": "https://localhost:8080/"
        },
        "id": "ntQox_CsIgt9",
        "outputId": "0d4585af-25f6-406e-f3da-f7e333595c77"
      },
      "source": [
        "shape"
      ],
      "execution_count": null,
      "outputs": [
        {
          "output_type": "execute_result",
          "data": {
            "text/plain": [
              "(32, 32, 3)"
            ]
          },
          "metadata": {
            "tags": []
          },
          "execution_count": 27
        }
      ]
    },
    {
      "cell_type": "code",
      "metadata": {
        "id": "FDqFEmnSIiAG"
      },
      "source": [
        "model.add(Conv2D(32, (3,3), padding=\"same\", input_shape=shape))"
      ],
      "execution_count": null,
      "outputs": []
    },
    {
      "cell_type": "code",
      "metadata": {
        "id": "HFjv4o17N3hA"
      },
      "source": [
        "model.add(Activation('relu'))"
      ],
      "execution_count": null,
      "outputs": []
    },
    {
      "cell_type": "code",
      "metadata": {
        "id": "Mi_ACJRGN3-N"
      },
      "source": [
        "model.add(BatchNormalization())"
      ],
      "execution_count": null,
      "outputs": []
    },
    {
      "cell_type": "code",
      "metadata": {
        "id": "kc5rf2O9N4WH"
      },
      "source": [
        "model.add(Conv2D(32, (3,3), padding=\"same\"))"
      ],
      "execution_count": null,
      "outputs": []
    },
    {
      "cell_type": "code",
      "metadata": {
        "id": "Y4c9acP5N4lv"
      },
      "source": [
        "model.add(Activation('relu'))"
      ],
      "execution_count": null,
      "outputs": []
    },
    {
      "cell_type": "code",
      "metadata": {
        "id": "U5JjfsR5N5Fj"
      },
      "source": [
        "model.add(BatchNormalization())"
      ],
      "execution_count": null,
      "outputs": []
    },
    {
      "cell_type": "code",
      "metadata": {
        "id": "D_vLgRKhN5aP"
      },
      "source": [
        "model.add(MaxPooling2D(pool_size=(2,2)))"
      ],
      "execution_count": null,
      "outputs": []
    },
    {
      "cell_type": "code",
      "metadata": {
        "id": "PBLMbp06Qhc1"
      },
      "source": [
        ""
      ],
      "execution_count": null,
      "outputs": []
    },
    {
      "cell_type": "code",
      "metadata": {
        "id": "PRGY3TVON5ww"
      },
      "source": [
        "model.add(Conv2D(64, (3,3), padding=\"same\"))"
      ],
      "execution_count": null,
      "outputs": []
    },
    {
      "cell_type": "code",
      "metadata": {
        "id": "4-lQAkG9Pt_Q"
      },
      "source": [
        "model.add(Activation(\"relu\"))"
      ],
      "execution_count": null,
      "outputs": []
    },
    {
      "cell_type": "code",
      "metadata": {
        "id": "2f952-ZHPz4g"
      },
      "source": [
        "model.add(BatchNormalization())"
      ],
      "execution_count": null,
      "outputs": []
    },
    {
      "cell_type": "code",
      "metadata": {
        "id": "LsoyAgYmP2Tx"
      },
      "source": [
        "model.add(Conv2D(64, (3,3), padding=\"same\"))"
      ],
      "execution_count": null,
      "outputs": []
    },
    {
      "cell_type": "code",
      "metadata": {
        "id": "MCU80a2EP7wj"
      },
      "source": [
        "model.add(Activation('relu'))"
      ],
      "execution_count": null,
      "outputs": []
    },
    {
      "cell_type": "code",
      "metadata": {
        "id": "GumM_iZsQAUL"
      },
      "source": [
        "model.add(BatchNormalization())"
      ],
      "execution_count": null,
      "outputs": []
    },
    {
      "cell_type": "code",
      "metadata": {
        "id": "uQXB8TkdQCXk"
      },
      "source": [
        "model.add(MaxPooling2D(pool_size=(2,2)))"
      ],
      "execution_count": null,
      "outputs": []
    },
    {
      "cell_type": "code",
      "metadata": {
        "id": "w9HAddjrQHD_"
      },
      "source": [
        "model.add(Flatten())"
      ],
      "execution_count": null,
      "outputs": []
    },
    {
      "cell_type": "code",
      "metadata": {
        "id": "SBUjQyYSTKwg"
      },
      "source": [
        "model.add(Dense(512))"
      ],
      "execution_count": null,
      "outputs": []
    },
    {
      "cell_type": "code",
      "metadata": {
        "id": "goe8mETCTT0g"
      },
      "source": [
        "model.add(Activation('relu'))"
      ],
      "execution_count": null,
      "outputs": []
    },
    {
      "cell_type": "code",
      "metadata": {
        "id": "OSgIkFwCTYiw"
      },
      "source": [
        "model.add(BatchNormalization())"
      ],
      "execution_count": null,
      "outputs": []
    },
    {
      "cell_type": "code",
      "metadata": {
        "id": "k60wfAq6TbZs"
      },
      "source": [
        "model.add(Dense(classes))"
      ],
      "execution_count": null,
      "outputs": []
    },
    {
      "cell_type": "code",
      "metadata": {
        "id": "tDLPRTolTlw0"
      },
      "source": [
        "model.add(Activation('softmax'))"
      ],
      "execution_count": null,
      "outputs": []
    },
    {
      "cell_type": "code",
      "metadata": {
        "id": "tu7EzpdnTqEn"
      },
      "source": [
        ""
      ],
      "execution_count": null,
      "outputs": []
    },
    {
      "cell_type": "code",
      "metadata": {
        "colab": {
          "base_uri": "https://localhost:8080/"
        },
        "id": "Awsa07VyTGEq",
        "outputId": "9b3742c1-a480-4750-c760-39b25b5d764f"
      },
      "source": [
        "trainX.shape[0]//64"
      ],
      "execution_count": null,
      "outputs": [
        {
          "output_type": "execute_result",
          "data": {
            "text/plain": [
              "543"
            ]
          },
          "metadata": {
            "tags": []
          },
          "execution_count": 64
        }
      ]
    },
    {
      "cell_type": "code",
      "metadata": {
        "colab": {
          "base_uri": "https://localhost:8080/"
        },
        "id": "tzVVZqgLJEZ9",
        "outputId": "4fc1d67b-2490-408e-87ec-9db2a96e6c25"
      },
      "source": [
        "model.summary()"
      ],
      "execution_count": null,
      "outputs": [
        {
          "output_type": "stream",
          "text": [
            "Model: \"sequential\"\n",
            "_________________________________________________________________\n",
            "Layer (type)                 Output Shape              Param #   \n",
            "=================================================================\n",
            "conv2d (Conv2D)              (None, 32, 32, 32)        896       \n",
            "_________________________________________________________________\n",
            "activation (Activation)      (None, 32, 32, 32)        0         \n",
            "_________________________________________________________________\n",
            "batch_normalization (BatchNo (None, 32, 32, 32)        128       \n",
            "_________________________________________________________________\n",
            "conv2d_1 (Conv2D)            (None, 32, 32, 32)        9248      \n",
            "_________________________________________________________________\n",
            "activation_1 (Activation)    (None, 32, 32, 32)        0         \n",
            "_________________________________________________________________\n",
            "batch_normalization_1 (Batch (None, 32, 32, 32)        128       \n",
            "_________________________________________________________________\n",
            "max_pooling2d (MaxPooling2D) (None, 16, 16, 32)        0         \n",
            "_________________________________________________________________\n",
            "conv2d_2 (Conv2D)            (None, 16, 16, 64)        18496     \n",
            "_________________________________________________________________\n",
            "activation_2 (Activation)    (None, 16, 16, 64)        0         \n",
            "_________________________________________________________________\n",
            "batch_normalization_2 (Batch (None, 16, 16, 64)        256       \n",
            "_________________________________________________________________\n",
            "conv2d_3 (Conv2D)            (None, 16, 16, 64)        36928     \n",
            "_________________________________________________________________\n",
            "activation_3 (Activation)    (None, 16, 16, 64)        0         \n",
            "_________________________________________________________________\n",
            "batch_normalization_3 (Batch (None, 16, 16, 64)        256       \n",
            "_________________________________________________________________\n",
            "max_pooling2d_1 (MaxPooling2 (None, 8, 8, 64)          0         \n",
            "_________________________________________________________________\n",
            "flatten (Flatten)            (None, 4096)              0         \n",
            "_________________________________________________________________\n",
            "dense (Dense)                (None, 512)               2097664   \n",
            "_________________________________________________________________\n",
            "activation_4 (Activation)    (None, 512)               0         \n",
            "_________________________________________________________________\n",
            "batch_normalization_4 (Batch (None, 512)               2048      \n",
            "_________________________________________________________________\n",
            "dense_1 (Dense)              (None, 43)                22059     \n",
            "_________________________________________________________________\n",
            "activation_5 (Activation)    (None, 43)                0         \n",
            "=================================================================\n",
            "Total params: 2,188,107\n",
            "Trainable params: 2,186,699\n",
            "Non-trainable params: 1,408\n",
            "_________________________________________________________________\n"
          ],
          "name": "stdout"
        }
      ]
    },
    {
      "cell_type": "code",
      "metadata": {
        "id": "ZVSsKRDp8rgK"
      },
      "source": [
        "aug = ImageDataGenerator(rotation_range=0.18, zoom_range=0.15, width_shift_range=0.2, height_shift_range=0.2, horizontal_flip=True)\n"
      ],
      "execution_count": null,
      "outputs": []
    },
    {
      "cell_type": "code",
      "metadata": {
        "id": "TwgXvIew87aT"
      },
      "source": [
        "learning_rate = 0.01\n"
      ],
      "execution_count": null,
      "outputs": []
    },
    {
      "cell_type": "code",
      "metadata": {
        "id": "GnoIscou8-jH"
      },
      "source": [
        "epochs = 10\n",
        "batch_size = 64\n"
      ],
      "execution_count": null,
      "outputs": []
    },
    {
      "cell_type": "code",
      "metadata": {
        "id": "WkZtR2em9GR9"
      },
      "source": [
        "opt = SGD(learning_rate=learning_rate, momentum=0.9)\n"
      ],
      "execution_count": null,
      "outputs": []
    },
    {
      "cell_type": "code",
      "metadata": {
        "id": "T35Azm1l9R5E"
      },
      "source": [
        "model.compile(optimizer=opt, loss=\"categorical_crossentropy\", metrics=[\"accuracy\"])"
      ],
      "execution_count": null,
      "outputs": []
    },
    {
      "cell_type": "code",
      "metadata": {
        "id": "NYJf_BLh9mAC"
      },
      "source": [
        "print(\"Start Training\")\n",
        "H = model.fit_generator(aug.flow(trainX, trainY, batch_size=batch_size), validation_data=(validX, validY), steps_per_epoch=trainX.shape[0]//batch_size, epochs=epochs, verbose=1)"
      ],
      "execution_count": null,
      "outputs": []
    }
  ]
}